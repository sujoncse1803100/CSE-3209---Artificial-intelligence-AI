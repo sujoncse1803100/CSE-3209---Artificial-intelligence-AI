{
  "cells": [
    {
      "cell_type": "code",
      "execution_count": 5,
      "metadata": {
        "id": "z_2gMKJ2_HPF"
      },
      "outputs": [],
      "source": [
        "import numpy as np\n",
        "import pandas as pd\n",
        "eps = np.finfo(float).eps\n",
        "from numpy import log2 as log\n",
        "\n",
        "#‘eps’ here is the smallest representable number. \n",
        "#At times we get log(0) or 0 in the denominator, \n",
        "#to avoid that we are going to use this.\n",
        "\n",
        "dataset = {'Age':['36-55','18-35','36-55','18-35','<18','18-35','36-55','36-55','36-55','>55','36-55','>55','<18','36-55','36-55','<18','18-35','>55','>55','36-55',],\n",
        "           'Education':['Masters','High School','Masters','Bachelors','High School','Bachelors','Bachelors','Bachelors','Masters','Masters','Masters','Masters','High School','Masters','High School','High School','Bachelors','High School','Bachelors','High School',],\n",
        "           'Income':['High','Low','Low','High','Low','High','Low','High','Low','Low','High','High','High','Low','Low','Low','High','High','Low','High',],\n",
        "           'Marrital_Status':['Single','Single','Single','Single','Single','Married','Married','Single','Married','Married','Single','Single','Single','Single','Single','Married','Married','Married','Single','Married',],\n",
        "           'Buy_Computer': ['Yes','No','Yes','No','Yes','No','No','Yes','No','Yes','Yes','Yes','No','Yes','Yes','Yes','No','Yes','Yes','No',]\n",
        "        }\n",
        "\n",
        "df = pd.DataFrame(dataset,columns=['Age','Education','Income','Marrital_Status','Buy_Computer'])"
      ]
    },
    {
      "cell_type": "code",
      "execution_count": 6,
      "metadata": {
        "colab": {
          "base_uri": "https://localhost:8080/",
          "height": 676
        },
        "id": "U2rDJlxs_VLv",
        "outputId": "a540fcf1-71ed-4062-9cbd-017644eb35eb"
      },
      "outputs": [
        {
          "data": {
            "text/html": [
              "\n",
              "  <div id=\"df-abee8238-8518-465c-97ca-8a09d59bc70f\">\n",
              "    <div class=\"colab-df-container\">\n",
              "      <div>\n",
              "<style scoped>\n",
              "    .dataframe tbody tr th:only-of-type {\n",
              "        vertical-align: middle;\n",
              "    }\n",
              "\n",
              "    .dataframe tbody tr th {\n",
              "        vertical-align: top;\n",
              "    }\n",
              "\n",
              "    .dataframe thead th {\n",
              "        text-align: right;\n",
              "    }\n",
              "</style>\n",
              "<table border=\"1\" class=\"dataframe\">\n",
              "  <thead>\n",
              "    <tr style=\"text-align: right;\">\n",
              "      <th></th>\n",
              "      <th>Age</th>\n",
              "      <th>Education</th>\n",
              "      <th>Income</th>\n",
              "      <th>Marrital_Status</th>\n",
              "      <th>Buy_Computer</th>\n",
              "    </tr>\n",
              "  </thead>\n",
              "  <tbody>\n",
              "    <tr>\n",
              "      <th>0</th>\n",
              "      <td>36-55</td>\n",
              "      <td>Masters</td>\n",
              "      <td>High</td>\n",
              "      <td>Single</td>\n",
              "      <td>Yes</td>\n",
              "    </tr>\n",
              "    <tr>\n",
              "      <th>1</th>\n",
              "      <td>18-35</td>\n",
              "      <td>High School</td>\n",
              "      <td>Low</td>\n",
              "      <td>Single</td>\n",
              "      <td>No</td>\n",
              "    </tr>\n",
              "    <tr>\n",
              "      <th>2</th>\n",
              "      <td>36-55</td>\n",
              "      <td>Masters</td>\n",
              "      <td>Low</td>\n",
              "      <td>Single</td>\n",
              "      <td>Yes</td>\n",
              "    </tr>\n",
              "    <tr>\n",
              "      <th>3</th>\n",
              "      <td>18-35</td>\n",
              "      <td>Bachelors</td>\n",
              "      <td>High</td>\n",
              "      <td>Single</td>\n",
              "      <td>No</td>\n",
              "    </tr>\n",
              "    <tr>\n",
              "      <th>4</th>\n",
              "      <td>&lt;18</td>\n",
              "      <td>High School</td>\n",
              "      <td>Low</td>\n",
              "      <td>Single</td>\n",
              "      <td>Yes</td>\n",
              "    </tr>\n",
              "    <tr>\n",
              "      <th>5</th>\n",
              "      <td>18-35</td>\n",
              "      <td>Bachelors</td>\n",
              "      <td>High</td>\n",
              "      <td>Married</td>\n",
              "      <td>No</td>\n",
              "    </tr>\n",
              "    <tr>\n",
              "      <th>6</th>\n",
              "      <td>36-55</td>\n",
              "      <td>Bachelors</td>\n",
              "      <td>Low</td>\n",
              "      <td>Married</td>\n",
              "      <td>No</td>\n",
              "    </tr>\n",
              "    <tr>\n",
              "      <th>7</th>\n",
              "      <td>36-55</td>\n",
              "      <td>Bachelors</td>\n",
              "      <td>High</td>\n",
              "      <td>Single</td>\n",
              "      <td>Yes</td>\n",
              "    </tr>\n",
              "    <tr>\n",
              "      <th>8</th>\n",
              "      <td>36-55</td>\n",
              "      <td>Masters</td>\n",
              "      <td>Low</td>\n",
              "      <td>Married</td>\n",
              "      <td>No</td>\n",
              "    </tr>\n",
              "    <tr>\n",
              "      <th>9</th>\n",
              "      <td>&gt;55</td>\n",
              "      <td>Masters</td>\n",
              "      <td>Low</td>\n",
              "      <td>Married</td>\n",
              "      <td>Yes</td>\n",
              "    </tr>\n",
              "    <tr>\n",
              "      <th>10</th>\n",
              "      <td>36-55</td>\n",
              "      <td>Masters</td>\n",
              "      <td>High</td>\n",
              "      <td>Single</td>\n",
              "      <td>Yes</td>\n",
              "    </tr>\n",
              "    <tr>\n",
              "      <th>11</th>\n",
              "      <td>&gt;55</td>\n",
              "      <td>Masters</td>\n",
              "      <td>High</td>\n",
              "      <td>Single</td>\n",
              "      <td>Yes</td>\n",
              "    </tr>\n",
              "    <tr>\n",
              "      <th>12</th>\n",
              "      <td>&lt;18</td>\n",
              "      <td>High School</td>\n",
              "      <td>High</td>\n",
              "      <td>Single</td>\n",
              "      <td>No</td>\n",
              "    </tr>\n",
              "    <tr>\n",
              "      <th>13</th>\n",
              "      <td>36-55</td>\n",
              "      <td>Masters</td>\n",
              "      <td>Low</td>\n",
              "      <td>Single</td>\n",
              "      <td>Yes</td>\n",
              "    </tr>\n",
              "    <tr>\n",
              "      <th>14</th>\n",
              "      <td>36-55</td>\n",
              "      <td>High School</td>\n",
              "      <td>Low</td>\n",
              "      <td>Single</td>\n",
              "      <td>Yes</td>\n",
              "    </tr>\n",
              "    <tr>\n",
              "      <th>15</th>\n",
              "      <td>&lt;18</td>\n",
              "      <td>High School</td>\n",
              "      <td>Low</td>\n",
              "      <td>Married</td>\n",
              "      <td>Yes</td>\n",
              "    </tr>\n",
              "    <tr>\n",
              "      <th>16</th>\n",
              "      <td>18-35</td>\n",
              "      <td>Bachelors</td>\n",
              "      <td>High</td>\n",
              "      <td>Married</td>\n",
              "      <td>No</td>\n",
              "    </tr>\n",
              "    <tr>\n",
              "      <th>17</th>\n",
              "      <td>&gt;55</td>\n",
              "      <td>High School</td>\n",
              "      <td>High</td>\n",
              "      <td>Married</td>\n",
              "      <td>Yes</td>\n",
              "    </tr>\n",
              "    <tr>\n",
              "      <th>18</th>\n",
              "      <td>&gt;55</td>\n",
              "      <td>Bachelors</td>\n",
              "      <td>Low</td>\n",
              "      <td>Single</td>\n",
              "      <td>Yes</td>\n",
              "    </tr>\n",
              "    <tr>\n",
              "      <th>19</th>\n",
              "      <td>36-55</td>\n",
              "      <td>High School</td>\n",
              "      <td>High</td>\n",
              "      <td>Married</td>\n",
              "      <td>No</td>\n",
              "    </tr>\n",
              "  </tbody>\n",
              "</table>\n",
              "</div>\n",
              "      <button class=\"colab-df-convert\" onclick=\"convertToInteractive('df-abee8238-8518-465c-97ca-8a09d59bc70f')\"\n",
              "              title=\"Convert this dataframe to an interactive table.\"\n",
              "              style=\"display:none;\">\n",
              "        \n",
              "  <svg xmlns=\"http://www.w3.org/2000/svg\" height=\"24px\"viewBox=\"0 0 24 24\"\n",
              "       width=\"24px\">\n",
              "    <path d=\"M0 0h24v24H0V0z\" fill=\"none\"/>\n",
              "    <path d=\"M18.56 5.44l.94 2.06.94-2.06 2.06-.94-2.06-.94-.94-2.06-.94 2.06-2.06.94zm-11 1L8.5 8.5l.94-2.06 2.06-.94-2.06-.94L8.5 2.5l-.94 2.06-2.06.94zm10 10l.94 2.06.94-2.06 2.06-.94-2.06-.94-.94-2.06-.94 2.06-2.06.94z\"/><path d=\"M17.41 7.96l-1.37-1.37c-.4-.4-.92-.59-1.43-.59-.52 0-1.04.2-1.43.59L10.3 9.45l-7.72 7.72c-.78.78-.78 2.05 0 2.83L4 21.41c.39.39.9.59 1.41.59.51 0 1.02-.2 1.41-.59l7.78-7.78 2.81-2.81c.8-.78.8-2.07 0-2.86zM5.41 20L4 18.59l7.72-7.72 1.47 1.35L5.41 20z\"/>\n",
              "  </svg>\n",
              "      </button>\n",
              "      \n",
              "  <style>\n",
              "    .colab-df-container {\n",
              "      display:flex;\n",
              "      flex-wrap:wrap;\n",
              "      gap: 12px;\n",
              "    }\n",
              "\n",
              "    .colab-df-convert {\n",
              "      background-color: #E8F0FE;\n",
              "      border: none;\n",
              "      border-radius: 50%;\n",
              "      cursor: pointer;\n",
              "      display: none;\n",
              "      fill: #1967D2;\n",
              "      height: 32px;\n",
              "      padding: 0 0 0 0;\n",
              "      width: 32px;\n",
              "    }\n",
              "\n",
              "    .colab-df-convert:hover {\n",
              "      background-color: #E2EBFA;\n",
              "      box-shadow: 0px 1px 2px rgba(60, 64, 67, 0.3), 0px 1px 3px 1px rgba(60, 64, 67, 0.15);\n",
              "      fill: #174EA6;\n",
              "    }\n",
              "\n",
              "    [theme=dark] .colab-df-convert {\n",
              "      background-color: #3B4455;\n",
              "      fill: #D2E3FC;\n",
              "    }\n",
              "\n",
              "    [theme=dark] .colab-df-convert:hover {\n",
              "      background-color: #434B5C;\n",
              "      box-shadow: 0px 1px 3px 1px rgba(0, 0, 0, 0.15);\n",
              "      filter: drop-shadow(0px 1px 2px rgba(0, 0, 0, 0.3));\n",
              "      fill: #FFFFFF;\n",
              "    }\n",
              "  </style>\n",
              "\n",
              "      <script>\n",
              "        const buttonEl =\n",
              "          document.querySelector('#df-abee8238-8518-465c-97ca-8a09d59bc70f button.colab-df-convert');\n",
              "        buttonEl.style.display =\n",
              "          google.colab.kernel.accessAllowed ? 'block' : 'none';\n",
              "\n",
              "        async function convertToInteractive(key) {\n",
              "          const element = document.querySelector('#df-abee8238-8518-465c-97ca-8a09d59bc70f');\n",
              "          const dataTable =\n",
              "            await google.colab.kernel.invokeFunction('convertToInteractive',\n",
              "                                                     [key], {});\n",
              "          if (!dataTable) return;\n",
              "\n",
              "          const docLinkHtml = 'Like what you see? Visit the ' +\n",
              "            '<a target=\"_blank\" href=https://colab.research.google.com/notebooks/data_table.ipynb>data table notebook</a>'\n",
              "            + ' to learn more about interactive tables.';\n",
              "          element.innerHTML = '';\n",
              "          dataTable['output_type'] = 'display_data';\n",
              "          await google.colab.output.renderOutput(dataTable, element);\n",
              "          const docLink = document.createElement('div');\n",
              "          docLink.innerHTML = docLinkHtml;\n",
              "          element.appendChild(docLink);\n",
              "        }\n",
              "      </script>\n",
              "    </div>\n",
              "  </div>\n",
              "  "
            ],
            "text/plain": [
              "      Age    Education Income Marrital_Status Buy_Computer\n",
              "0   36-55      Masters   High          Single          Yes\n",
              "1   18-35  High School    Low          Single           No\n",
              "2   36-55      Masters    Low          Single          Yes\n",
              "3   18-35    Bachelors   High          Single           No\n",
              "4     <18  High School    Low          Single          Yes\n",
              "5   18-35    Bachelors   High         Married           No\n",
              "6   36-55    Bachelors    Low         Married           No\n",
              "7   36-55    Bachelors   High          Single          Yes\n",
              "8   36-55      Masters    Low         Married           No\n",
              "9     >55      Masters    Low         Married          Yes\n",
              "10  36-55      Masters   High          Single          Yes\n",
              "11    >55      Masters   High          Single          Yes\n",
              "12    <18  High School   High          Single           No\n",
              "13  36-55      Masters    Low          Single          Yes\n",
              "14  36-55  High School    Low          Single          Yes\n",
              "15    <18  High School    Low         Married          Yes\n",
              "16  18-35    Bachelors   High         Married           No\n",
              "17    >55  High School   High         Married          Yes\n",
              "18    >55    Bachelors    Low          Single          Yes\n",
              "19  36-55  High School   High         Married           No"
            ]
          },
          "execution_count": 6,
          "metadata": {},
          "output_type": "execute_result"
        }
      ],
      "source": [
        "df"
      ]
    },
    {
      "cell_type": "code",
      "execution_count": 9,
      "metadata": {
        "id": "EhmpHeaB_5h3"
      },
      "outputs": [],
      "source": [
        "Class_entropy = 0  #Initialize Entropy\n",
        "values = df.Buy_Computer.unique()  #Unique objects - 'Yes', 'No'\n",
        "for value in values:\n",
        "    fraction = df.Buy_Computer.value_counts()[value]/len(df.Buy_Computer)  \n",
        "    Class_entropy += -fraction*np.log2(fraction)\n"
      ]
    },
    {
      "cell_type": "code",
      "execution_count": 10,
      "metadata": {
        "colab": {
          "base_uri": "https://localhost:8080/"
        },
        "id": "nUG46D7_h1Nm",
        "outputId": "ce8a0c86-7bbb-468a-d6ec-ec1b23253604"
      },
      "outputs": [
        {
          "data": {
            "text/plain": [
              "0.9709505944546686"
            ]
          },
          "execution_count": 10,
          "metadata": {},
          "output_type": "execute_result"
        }
      ],
      "source": [
        "Class_entropy"
      ]
    },
    {
      "cell_type": "code",
      "execution_count": 18,
      "metadata": {
        "id": "CTVTGtCRiYz_"
      },
      "outputs": [],
      "source": [
        "#Entropy for Age\n",
        "attribute = 'Age'\n",
        "target_variables = df.Buy_Computer.unique()  #This gives all 'Yes' and 'No'\n",
        "variables = df[attribute].unique()    #This gives different features in that attribute (like '<18')\n",
        "entropy_attribute = 0\n",
        "for variable in variables:\n",
        "    entropy_each_feature = 0\n",
        "    for target_variable in target_variables:\n",
        "        num = len(df[attribute][df[attribute]==variable][df.Buy_Computer ==target_variable]) #numerator\n",
        "        den = len(df[attribute][df[attribute]==variable])  #denominator\n",
        "        fraction = num/(den+eps)  #pi\n",
        "        entropy_each_feature += -fraction*log(fraction+eps) #This calculates entropy for one feature like '18-35'\n",
        "    fraction2 = den/len(df)\n",
        "    entropy_attribute += -fraction2*entropy_each_feature   #Sums up all the entropy EAge"
      ]
    },
    {
      "cell_type": "code",
      "execution_count": 19,
      "metadata": {
        "colab": {
          "base_uri": "https://localhost:8080/"
        },
        "id": "Eelgze17lc-Z",
        "outputId": "c3f9155a-4ba5-4d09-b75e-ff6b0111e24f"
      },
      "outputs": [
        {
          "data": {
            "text/plain": [
              "0.5509775004326932"
            ]
          },
          "execution_count": 19,
          "metadata": {},
          "output_type": "execute_result"
        }
      ],
      "source": [
        "abs(entropy_attribute)"
      ]
    },
    {
      "cell_type": "code",
      "execution_count": 20,
      "metadata": {
        "id": "uy3Bd86FmOJv"
      },
      "outputs": [],
      "source": [
        "IG_Age=Class_entropy-abs(entropy_attribute)"
      ]
    },
    {
      "cell_type": "code",
      "execution_count": 21,
      "metadata": {
        "colab": {
          "base_uri": "https://localhost:8080/"
        },
        "id": "rI57IwAKmepO",
        "outputId": "7c49b15b-6a99-4895-8ea1-d1a22a828e9b"
      },
      "outputs": [
        {
          "data": {
            "text/plain": [
              "0.41997309402197536"
            ]
          },
          "execution_count": 21,
          "metadata": {},
          "output_type": "execute_result"
        }
      ],
      "source": [
        "IG_Age"
      ]
    },
    {
      "cell_type": "code",
      "execution_count": 22,
      "metadata": {
        "id": "Z8X1c8SWnj-G"
      },
      "outputs": [],
      "source": [
        "#Entropy for Education\n",
        "attribute = 'Education'\n",
        "target_variables = df.Buy_Computer.unique()  #This gives all 'Yes' and 'No'\n",
        "variables = df[attribute].unique()    #This gives different features in that attribute (like '<18')\n",
        "entropy_attribute = 0\n",
        "for variable in variables:\n",
        "    entropy_each_feature = 0\n",
        "    for target_variable in target_variables:\n",
        "        num = len(df[attribute][df[attribute]==variable][df.Buy_Computer ==target_variable]) #numerator\n",
        "        den = len(df[attribute][df[attribute]==variable])  #denominator\n",
        "        fraction = num/(den+eps)  #pi\n",
        "        entropy_each_feature += -fraction*log(fraction+eps) #This calculates entropy for one feature like 'School'\n",
        "    fraction2 = den/len(df)\n",
        "    entropy_attribute += -fraction2*entropy_each_feature   #Sums up all the entropy E_Education"
      ]
    },
    {
      "cell_type": "code",
      "execution_count": 25,
      "metadata": {
        "colab": {
          "base_uri": "https://localhost:8080/"
        },
        "id": "tAtRzVb9pB5D",
        "outputId": "b43af097-1b25-4f24-d496-3dbee315854f"
      },
      "outputs": [
        {
          "data": {
            "text/plain": [
              "0.9406454496153457"
            ]
          },
          "execution_count": 25,
          "metadata": {},
          "output_type": "execute_result"
        }
      ],
      "source": [
        "abs(entropy_attribute)"
      ]
    },
    {
      "cell_type": "code",
      "execution_count": 23,
      "metadata": {
        "colab": {
          "base_uri": "https://localhost:8080/"
        },
        "id": "hlHZb3kGozUC",
        "outputId": "94efdf04-3c2b-40b7-8516-739b4e69dfbd"
      },
      "outputs": [
        {
          "data": {
            "text/plain": [
              "0.14354652412251978"
            ]
          },
          "execution_count": 23,
          "metadata": {},
          "output_type": "execute_result"
        }
      ],
      "source": [
        "IG_Education = entropy_node - abs(entropy_attribute)\n",
        "IG_Education"
      ]
    },
    {
      "cell_type": "code",
      "execution_count": 24,
      "metadata": {
        "id": "7r8lldQSo5jO"
      },
      "outputs": [],
      "source": [
        "#Entropy for Income\n",
        "attribute = 'Income'\n",
        "target_variables = df.Buy_Computer.unique()  #This gives all 'Yes' and 'No'\n",
        "variables = df[attribute].unique()    #This gives different features in that attribute (like 'High')\n",
        "entropy_attribute = 0\n",
        "for variable in variables:\n",
        "    entropy_each_feature = 0\n",
        "    for target_variable in target_variables:\n",
        "        num = len(df[attribute][df[attribute]==variable][df.Buy_Computer ==target_variable]) #numerator\n",
        "        den = len(df[attribute][df[attribute]==variable])  #denominator\n",
        "        fraction = num/(den+eps)  #pi\n",
        "        entropy_each_feature += -fraction*log(fraction+eps) #This calculates entropy for one feature like 'School'\n",
        "    fraction2 = den/len(df)\n",
        "    entropy_attribute += -fraction2*entropy_each_feature   #Sums up all the entropy E_Education"
      ]
    },
    {
      "cell_type": "code",
      "execution_count": 26,
      "metadata": {
        "colab": {
          "base_uri": "https://localhost:8080/"
        },
        "id": "aTgVqAffpF4H",
        "outputId": "671da257-f137-428d-a99f-f078f856adf8"
      },
      "outputs": [
        {
          "data": {
            "text/plain": [
              "0.9406454496153457"
            ]
          },
          "execution_count": 26,
          "metadata": {},
          "output_type": "execute_result"
        }
      ],
      "source": [
        "abs(entropy_attribute)"
      ]
    },
    {
      "cell_type": "code",
      "execution_count": 27,
      "metadata": {
        "colab": {
          "base_uri": "https://localhost:8080/"
        },
        "id": "V1CsQP2DpK9I",
        "outputId": "35d44dc1-c78b-4dbb-aa4f-bf16ebe6a1c9"
      },
      "outputs": [
        {
          "data": {
            "text/plain": [
              "0.030305144839322895"
            ]
          },
          "execution_count": 27,
          "metadata": {},
          "output_type": "execute_result"
        }
      ],
      "source": [
        "IG_Income = entropy_node - abs(entropy_attribute)\n",
        "IG_Income"
      ]
    },
    {
      "cell_type": "code",
      "execution_count": 28,
      "metadata": {
        "id": "0ODc10FhpPwu"
      },
      "outputs": [],
      "source": [
        "#Entropy for Marrital Status\n",
        "attribute = 'Marrital_Status'\n",
        "target_variables = df.Buy_Computer.unique()  #This gives all 'Yes' and 'No'\n",
        "variables = df[attribute].unique()    #This gives different features in that attribute (like 'Single')\n",
        "entropy_attribute = 0\n",
        "for variable in variables:\n",
        "    entropy_each_feature = 0\n",
        "    for target_variable in target_variables:\n",
        "        num = len(df[attribute][df[attribute]==variable][df.Buy_Computer ==target_variable]) #numerator\n",
        "        den = len(df[attribute][df[attribute]==variable])  #denominator\n",
        "        fraction = num/(den+eps)  #pi\n",
        "        entropy_each_feature += -fraction*log(fraction+eps) #This calculates entropy for one feature like 'School'\n",
        "    fraction2 = den/len(df)\n",
        "    entropy_attribute += -fraction2*entropy_each_feature   #Sums up all the entropy E_Education"
      ]
    },
    {
      "cell_type": "code",
      "execution_count": 29,
      "metadata": {
        "colab": {
          "base_uri": "https://localhost:8080/"
        },
        "id": "up0ilB5IpR5Q",
        "outputId": "bc259fa2-cf4f-47a1-bcc4-ce5f52a5112e"
      },
      "outputs": [
        {
          "data": {
            "text/plain": [
              "0.8685404758454651"
            ]
          },
          "execution_count": 29,
          "metadata": {},
          "output_type": "execute_result"
        }
      ],
      "source": [
        "abs(entropy_attribute)"
      ]
    },
    {
      "cell_type": "code",
      "execution_count": 30,
      "metadata": {
        "colab": {
          "base_uri": "https://localhost:8080/"
        },
        "id": "N7BuV9BApXjW",
        "outputId": "8637119d-f2d1-4378-a8cc-2ebd26e66c4b"
      },
      "outputs": [
        {
          "data": {
            "text/plain": [
              "0.10241011860920346"
            ]
          },
          "execution_count": 30,
          "metadata": {},
          "output_type": "execute_result"
        }
      ],
      "source": [
        "IG_Marrital = entropy_node - abs(entropy_attribute)\n",
        "IG_Marrital"
      ]
    },
    {
      "cell_type": "code",
      "execution_count": 31,
      "metadata": {
        "id": "omYderkoqqK5"
      },
      "outputs": [],
      "source": [
        "#decision tree\n",
        "def find_entropy(df):\n",
        "    Class = df.keys()[-1]   #To make the code generic, changing target variable class name\n",
        "    entropy = 0\n",
        "    values = df[Class].unique()\n",
        "    for value in values:\n",
        "        fraction = df[Class].value_counts()[value]/len(df[Class])\n",
        "        entropy += -fraction*np.log2(fraction)\n",
        "    return entropy\n",
        "\n",
        "def find_entropy_attribute(df,attribute):\n",
        "    Class = df.keys()[-1]   #To make the code generic, changing target variable class name\n",
        "    target_variables = df[Class].unique()  #This gives all 'Yes' and 'No'\n",
        "    variables = df[attribute].unique()    #This gives different features in that attribute (like 'Hot','Cold' in Temperature)\n",
        "    entropy2 = 0\n",
        "    for variable in variables:\n",
        "        entropy = 0\n",
        "        for target_variable in target_variables:\n",
        "            num = len(df[attribute][df[attribute]==variable][df[Class] ==target_variable])\n",
        "            den = len(df[attribute][df[attribute]==variable])\n",
        "            fraction = num/(den+eps)\n",
        "            entropy += -fraction*log(fraction+eps)\n",
        "        fraction2 = den/len(df)\n",
        "        entropy2 += -fraction2*entropy\n",
        "    return abs(entropy2)\n",
        "\n",
        "def find_winner(df):\n",
        "    Entropy_att = []\n",
        "    IG = []\n",
        "    for key in df.keys()[:-1]:\n",
        "#       Entropy_att.append(find_entropy_attribute(df,key))\n",
        "        IG.append(find_entropy(df)-find_entropy_attribute(df,key))\n",
        "    return df.keys()[:-1][np.argmax(IG)]\n",
        "  \n",
        "def get_subtable(df, node,value):\n",
        "    return df[df[node] == value].reset_index(drop=True)\n",
        "\n",
        "def buildTree(df,tree=None): \n",
        "    Class = df.keys()[-1]   #To make the code generic, changing target variable class name\n",
        "    \n",
        "    #Here we build our decision tree\n",
        "\n",
        "    #Get attribute with maximum information gain\n",
        "    node = find_winner(df)\n",
        "    \n",
        "    #Get distinct value of that attribute e.g Salary is node and Low,Med and High are values\n",
        "    attValue = np.unique(df[node])\n",
        "    \n",
        "    #Create an empty dictionary to create tree    \n",
        "    if tree is None:                    \n",
        "        tree={}\n",
        "        tree[node] = {}\n",
        "    \n",
        "   #We make loop to construct a tree by calling this function recursively. \n",
        "    #In this we check if the subset is pure and stops if it is pure. \n",
        "\n",
        "    for value in attValue:\n",
        "        \n",
        "        subtable = get_subtable(df,node,value)\n",
        "        clValue,counts = np.unique(subtable['Buy_Computer'],return_counts=True)                        \n",
        "        \n",
        "        if len(counts)==1:#Checking purity of subset\n",
        "            tree[node][value] = clValue[0]                                                    \n",
        "        else:        \n",
        "            tree[node][value] = buildTree(subtable) #Calling the function recursively \n",
        "                   \n",
        "    return tree"
      ]
    },
    {
      "cell_type": "code",
      "execution_count": 32,
      "metadata": {
        "colab": {
          "base_uri": "https://localhost:8080/"
        },
        "id": "e1lQzTT6qu7-",
        "outputId": "be694691-d014-4b77-efe9-593adde57bf3"
      },
      "outputs": [
        {
          "name": "stdout",
          "output_type": "stream",
          "text": [
            "{'Age': {'18-35': 'No',\n",
            "         '36-55': {'Marrital_Status': {'Married': 'No', 'Single': 'Yes'}},\n",
            "         '<18': {'Income': {'High': 'No', 'Low': 'Yes'}},\n",
            "         '>55': 'Yes'}}\n"
          ]
        }
      ],
      "source": [
        "tree = buildTree(df)\n",
        "import pprint\n",
        "pprint.pprint(tree)"
      ]
    },
    {
      "cell_type": "code",
      "execution_count": 33,
      "metadata": {
        "id": "3RUBDqUwq3ux"
      },
      "outputs": [],
      "source": [
        "#Prediction Function\n",
        "def predict(inst,tree):\n",
        "    #This function is used to predict for any input variable \n",
        "    \n",
        "    #Recursively we go through the tree that we built earlier\n",
        "\n",
        "    for nodes in tree.keys():        \n",
        "        \n",
        "        value = inst[nodes]\n",
        "        tree = tree[nodes][value]\n",
        "        prediction = 0\n",
        "            \n",
        "        if type(tree) is dict:\n",
        "            prediction = predict(inst, tree)\n",
        "        else:\n",
        "            prediction = tree\n",
        "            break;  "
      ]
    },
    {
      "cell_type": "code",
      "execution_count": 34,
      "metadata": {
        "id": "ctId4eHDq-K-"
      },
      "outputs": [],
      "source": [
        "inst = df.iloc[6] #This takes row with index 6"
      ]
    },
    {
      "cell_type": "code",
      "execution_count": 35,
      "metadata": {
        "colab": {
          "base_uri": "https://localhost:8080/"
        },
        "id": "0KAekOiHrCug",
        "outputId": "6c29dd1d-f7da-4c86-c94f-ef17c139f908"
      },
      "outputs": [
        {
          "data": {
            "text/plain": [
              "Age                    36-55\n",
              "Education          Bachelors\n",
              "Income                   Low\n",
              "Marrital_Status      Married\n",
              "Buy_Computer              No\n",
              "Name: 6, dtype: object"
            ]
          },
          "execution_count": 35,
          "metadata": {},
          "output_type": "execute_result"
        }
      ],
      "source": [
        "inst"
      ]
    }
  ],
  "metadata": {
    "colab": {
      "collapsed_sections": [],
      "provenance": []
    },
    "kernelspec": {
      "display_name": "Python 3",
      "language": "python",
      "name": "python3"
    },
    "language_info": {
      "name": "python",
      "version": "3.9.6 (tags/v3.9.6:db3ff76, Jun 28 2021, 15:26:21) [MSC v.1929 64 bit (AMD64)]"
    },
    "vscode": {
      "interpreter": {
        "hash": "4b260a7fc019e4a4bedadb94904939474f32e7ea9134ebdda920a52ace7a03ef"
      }
    }
  },
  "nbformat": 4,
  "nbformat_minor": 0
}
